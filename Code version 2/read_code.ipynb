{
 "cells": [
  {
   "cell_type": "code",
   "execution_count": 4,
   "id": "d84fd926",
   "metadata": {},
   "outputs": [],
   "source": [
    "# Hiển thị toàn bộ output trong mỗi cell (không chỉ dòng cuối)\n",
    "from IPython.core.interactiveshell import InteractiveShell\n",
    "InteractiveShell.ast_node_interactivity = \"all\"\n",
    "\n",
    "# Đảm bảo matplotlib hiển thị trong notebook\n",
    "%matplotlib inline\n",
    "\n",
    "# Tùy chọn hiển thị cho pandas\n",
    "import pandas as pd\n",
    "\n",
    "pd.set_option('display.max_rows', 1000)        # Số dòng tối đa để hiển thị\n",
    "pd.set_option('display.max_columns', 1000)     # Số cột tối đa\n",
    "pd.set_option('display.width', 1000)           # Độ rộng hiển thị\n",
    "pd.set_option('display.max_colwidth', None) \n",
    "   # Hiển thị đầy đủ nội dung từng ô (cả string dài)\n",
    "\n",
    "# Đẹp hơn cho dict hoặc list lớn\n",
    "from IPython.core.interactiveshell import InteractiveShell\n",
    "InteractiveShell.ast_node_interactivity = \"all\"\n",
    "\n",
    "from pprint import pprint\n"
   ]
  },
  {
   "cell_type": "code",
   "execution_count": 6,
   "id": "e68ec3e1",
   "metadata": {},
   "outputs": [
    {
     "data": {
      "text/plain": [
       "31"
      ]
     },
     "execution_count": 6,
     "metadata": {},
     "output_type": "execute_result"
    },
    {
     "data": {
      "text/plain": [
       "30"
      ]
     },
     "execution_count": 6,
     "metadata": {},
     "output_type": "execute_result"
    },
    {
     "data": {
      "text/plain": [
       "18"
      ]
     },
     "execution_count": 6,
     "metadata": {},
     "output_type": "execute_result"
    },
    {
     "data": {
      "text/plain": [
       "21"
      ]
     },
     "execution_count": 6,
     "metadata": {},
     "output_type": "execute_result"
    },
    {
     "data": {
      "text/plain": [
       "24"
      ]
     },
     "execution_count": 6,
     "metadata": {},
     "output_type": "execute_result"
    },
    {
     "data": {
      "text/plain": [
       "20"
      ]
     },
     "execution_count": 6,
     "metadata": {},
     "output_type": "execute_result"
    },
    {
     "data": {
      "text/plain": [
       "18"
      ]
     },
     "execution_count": 6,
     "metadata": {},
     "output_type": "execute_result"
    },
    {
     "data": {
      "text/plain": [
       "17"
      ]
     },
     "execution_count": 6,
     "metadata": {},
     "output_type": "execute_result"
    },
    {
     "data": {
      "text/plain": [
       "25"
      ]
     },
     "execution_count": 6,
     "metadata": {},
     "output_type": "execute_result"
    },
    {
     "data": {
      "text/plain": [
       "17"
      ]
     },
     "execution_count": 6,
     "metadata": {},
     "output_type": "execute_result"
    },
    {
     "data": {
      "text/plain": [
       "22"
      ]
     },
     "execution_count": 6,
     "metadata": {},
     "output_type": "execute_result"
    },
    {
     "data": {
      "text/plain": [
       "19"
      ]
     },
     "execution_count": 6,
     "metadata": {},
     "output_type": "execute_result"
    },
    {
     "data": {
      "text/plain": [
       "24"
      ]
     },
     "execution_count": 6,
     "metadata": {},
     "output_type": "execute_result"
    },
    {
     "data": {
      "text/plain": [
       "20"
      ]
     },
     "execution_count": 6,
     "metadata": {},
     "output_type": "execute_result"
    },
    {
     "data": {
      "text/plain": [
       "23"
      ]
     },
     "execution_count": 6,
     "metadata": {},
     "output_type": "execute_result"
    },
    {
     "data": {
      "text/plain": [
       "19"
      ]
     },
     "execution_count": 6,
     "metadata": {},
     "output_type": "execute_result"
    },
    {
     "data": {
      "text/plain": [
       "11"
      ]
     },
     "execution_count": 6,
     "metadata": {},
     "output_type": "execute_result"
    },
    {
     "data": {
      "text/plain": [
       "12"
      ]
     },
     "execution_count": 6,
     "metadata": {},
     "output_type": "execute_result"
    },
    {
     "data": {
      "text/plain": [
       "16"
      ]
     },
     "execution_count": 6,
     "metadata": {},
     "output_type": "execute_result"
    },
    {
     "data": {
      "text/plain": [
       "17"
      ]
     },
     "execution_count": 6,
     "metadata": {},
     "output_type": "execute_result"
    },
    {
     "data": {
      "text/plain": [
       "20"
      ]
     },
     "execution_count": 6,
     "metadata": {},
     "output_type": "execute_result"
    },
    {
     "data": {
      "text/plain": [
       "20"
      ]
     },
     "execution_count": 6,
     "metadata": {},
     "output_type": "execute_result"
    },
    {
     "data": {
      "text/plain": [
       "24"
      ]
     },
     "execution_count": 6,
     "metadata": {},
     "output_type": "execute_result"
    },
    {
     "data": {
      "text/plain": [
       "20"
      ]
     },
     "execution_count": 6,
     "metadata": {},
     "output_type": "execute_result"
    },
    {
     "data": {
      "text/plain": [
       "21"
      ]
     },
     "execution_count": 6,
     "metadata": {},
     "output_type": "execute_result"
    },
    {
     "data": {
      "text/plain": [
       "20"
      ]
     },
     "execution_count": 6,
     "metadata": {},
     "output_type": "execute_result"
    },
    {
     "data": {
      "text/plain": [
       "19"
      ]
     },
     "execution_count": 6,
     "metadata": {},
     "output_type": "execute_result"
    },
    {
     "data": {
      "text/plain": [
       "27"
      ]
     },
     "execution_count": 6,
     "metadata": {},
     "output_type": "execute_result"
    },
    {
     "data": {
      "text/plain": [
       "31"
      ]
     },
     "execution_count": 6,
     "metadata": {},
     "output_type": "execute_result"
    },
    {
     "data": {
      "text/plain": [
       "25"
      ]
     },
     "execution_count": 6,
     "metadata": {},
     "output_type": "execute_result"
    },
    {
     "data": {
      "text/plain": [
       "31"
      ]
     },
     "execution_count": 6,
     "metadata": {},
     "output_type": "execute_result"
    },
    {
     "data": {
      "text/plain": [
       "26"
      ]
     },
     "execution_count": 6,
     "metadata": {},
     "output_type": "execute_result"
    },
    {
     "name": "stdout",
     "output_type": "stream",
     "text": [
      "Các hàm được định nghĩa trong file:\n",
      "format_microseconds_to_mmss_us\n",
      "parse_mmss_us_to_microseconds\n",
      "parse_sensor_data\n",
      "parse_handshake_data\n",
      "parse_wifi_client_count\n",
      "parse_server_uptime\n",
      "is_separator_line\n",
      "update_com_ports\n",
      "start_serial_read_thread\n",
      "stop_serial_read\n",
      "read_serial_data_loop\n",
      "process_queue_data\n",
      "process_serial_line_gui\n",
      "update_data_display\n",
      "update_summary_display\n",
      "log_error_and_stop\n",
      "on_closing\n",
      "setup_plots\n",
      "update_acc_plot\n",
      "update_gyro_plot\n",
      "save_last_directory\n",
      "load_last_directory\n",
      "select_output_directory\n",
      "get_output_filename\n",
      "start_recording_data\n",
      "stop_recording_data\n",
      "write_data_to_file\n",
      "save_current_treeview_data\n",
      "toggle_recording_buttons_state\n",
      "toggle_save_button_state\n",
      "update_node_selection_combobox\n",
      "on_node_selected_for_plot\n"
     ]
    }
   ],
   "source": [
    "import ast\n",
    "import os\n",
    "\n",
    "def get_function_names_from_file(file_path):\n",
    "    if not os.path.isfile(file_path):\n",
    "        print(f\"[ERROR] File không tồn tại: {file_path}\")\n",
    "        return []\n",
    "\n",
    "    with open(file_path, 'r', encoding='utf-8') as f:\n",
    "        file_content = f.read()\n",
    "\n",
    "    try:\n",
    "        tree = ast.parse(file_content)\n",
    "    except SyntaxError as e:\n",
    "        print(f\"[ERROR] File không thể phân tích cú pháp: {e}\")\n",
    "        return []\n",
    "\n",
    "    func_names = [\n",
    "        node.name for node in ast.walk(tree)\n",
    "        if isinstance(node, (ast.FunctionDef, ast.AsyncFunctionDef))\n",
    "    ]\n",
    "    return func_names\n",
    "\n",
    "# --- Ví dụ sử dụng ---\n",
    "file_path = 'EspServer.py'  # Thay bằng đường dẫn thật nếu cần\n",
    "\n",
    "function_names = get_function_names_from_file(file_path)\n",
    "with open(\"functions_output.txt\", \"w\", encoding=\"utf-8\") as f:\n",
    "    for func in function_names:\n",
    "        f.write(func + \"\\n\")\n",
    "\n",
    "if function_names:\n",
    "    print(\"Các hàm được định nghĩa trong file:\")\n",
    "    for name in function_names:\n",
    "        print(name)\n",
    "else:\n",
    "    print(\"Không tìm thấy hàm nào hoặc file có lỗi.\")\n"
   ]
  }
 ],
 "metadata": {
  "kernelspec": {
   "display_name": "Python 3",
   "language": "python",
   "name": "python3"
  },
  "language_info": {
   "codemirror_mode": {
    "name": "ipython",
    "version": 3
   },
   "file_extension": ".py",
   "mimetype": "text/x-python",
   "name": "python",
   "nbconvert_exporter": "python",
   "pygments_lexer": "ipython3",
   "version": "3.11.3"
  }
 },
 "nbformat": 4,
 "nbformat_minor": 5
}
